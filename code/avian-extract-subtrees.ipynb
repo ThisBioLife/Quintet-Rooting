{
  "nbformat": 4,
  "nbformat_minor": 0,
  "metadata": {
    "colab": {
      "name": "Untitled0.ipynb",
      "provenance": [],
      "collapsed_sections": []
    },
    "kernelspec": {
      "name": "python3",
      "display_name": "Python 3"
    },
    "language_info": {
      "name": "python"
    }
  },
  "cells": [
    {
      "cell_type": "code",
      "metadata": {
        "id": "PSw8OhQzN8nq"
      },
      "source": [
        "pip install dendropy"
      ],
      "execution_count": null,
      "outputs": []
    },
    {
      "cell_type": "code",
      "metadata": {
        "id": "BxEnW6bGOJOu"
      },
      "source": [
        "import dendropy\n",
        "import glob\n",
        "import os\n",
        "import numpy as np"
      ],
      "execution_count": null,
      "outputs": []
    },
    {
      "cell_type": "code",
      "metadata": {
        "id": "yjKWp3jVOLrb"
      },
      "source": [
        "from google.colab import drive\n",
        "drive.mount('/content/drive')"
      ],
      "execution_count": null,
      "outputs": []
    },
    {
      "cell_type": "code",
      "metadata": {
        "id": "WMLZAWvGOU7q"
      },
      "source": [
        "base_data_path = '/content/drive/My Drive/Datasets/CS581/avian-simulated'\n",
        "gene_tree_sets = glob.glob(base_data_path + '/*.f200')\n"
      ],
      "execution_count": null,
      "outputs": []
    },
    {
      "cell_type": "code",
      "metadata": {
        "id": "PMQAI659OcBk"
      },
      "source": [
        "stripped_path = base_data_path + '/Original'\n",
        "#os.mkdir(stripped_path)\n"
      ],
      "execution_count": null,
      "outputs": []
    },
    {
      "cell_type": "code",
      "metadata": {
        "id": "uoJwvhFvOdqv"
      },
      "source": [
        "for gene_tree_set in gene_tree_sets:\n",
        "  gene_trees = dendropy.TreeList.get(path=gene_tree_set, schema='newick', suppress_edge_lengths=True)\n",
        "  gene_trees.write_to_path(dest=stripped_path + '/' + os.path.basename(gene_tree_set) + '.strip', schema='newick', suppress_edge_lengths=True, suppress_internal_node_labels=True)"
      ],
      "execution_count": null,
      "outputs": []
    },
    {
      "cell_type": "code",
      "metadata": {
        "id": "HaFpqWBjOpS2"
      },
      "source": [
        "stripped_gene_trees = os.listdir(stripped_path)\n",
        "#print(stripped_gene_trees)\n",
        "taxon_namespace = dendropy.TreeList.get(path=stripped_path + '/' + stripped_gene_trees[0], schema='newick').taxon_namespace\n",
        "taxon_count = taxon_namespace.__len__()\n",
        "test_case_count = 300 #101-150\n",
        "print('taxon_count ', taxon_count)\n",
        "test_cases_path = base_data_path + '/length'\n",
        "os.mkdir(test_cases_path)\n",
        "model_tree = dendropy.Tree.get(path=stripped_path + '/avian-model-species.tre',  schema='newick')\n",
        "for test_case in range (1, test_case_count+1):\n",
        "  case_path = test_cases_path + '/' + str(test_case)\n",
        "  os.mkdir(case_path)\n",
        "\n",
        "  subtree_taxa_indices = np.random.choice(taxon_count-1, 5, replace=False)\n",
        "  print('case ', test_case, ' indices ', subtree_taxa_indices)\n",
        "  subtree_taxa = [taxon_namespace[index.item()].label for index in subtree_taxa_indices]\n",
        "\n",
        "  #print(subtree_taxa)\n",
        "  \"\"\"\n",
        "  for gene_trees in stripped_gene_trees:\n",
        "    gene_tree_list = dendropy.TreeList.get(path=stripped_path + '/' + gene_trees, schema='newick')\n",
        "    outfile = open(case_path + '/' + gene_trees.replace('.strip', ''), 'w')\n",
        "    for gene_tree in gene_tree_list:\n",
        "      subtree = gene_tree.extract_tree_with_taxa_labels(labels=subtree_taxa, suppress_unifurcations=True)\n",
        "      outfile.write(subtree.as_string('newick'))\n",
        "    outfile.close()\n",
        "  \"\"\"\n",
        "  subtree = model_tree.extract_tree_with_taxa_labels(labels=subtree_taxa, suppress_unifurcations=True)\n",
        "  #subtree.write_to_path(dest=case_path + '/avian-model-species.tre', schema='newick', suppress_edge_lengths=True, suppress_internal_node_labels=True)\n",
        "  subtree.write_to_path(dest=case_path + '/avian-model-species.tre', schema='newick')\n",
        "  print('done')"
      ],
      "execution_count": null,
      "outputs": []
    },
    {
      "cell_type": "code",
      "metadata": {
        "id": "eURqHHlKdb2x"
      },
      "source": [
        ""
      ],
      "execution_count": null,
      "outputs": []
    }
  ]
}